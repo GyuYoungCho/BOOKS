{
 "cells": [
  {
   "cell_type": "code",
   "execution_count": 2,
   "id": "d277dc5a",
   "metadata": {},
   "outputs": [],
   "source": [
    "import xlearn as xl\n",
    "\n",
    "def test2():\n",
    "    ffm_model = xl.create_ffm()\n",
    "\n",
    "    train_path = '../dataset/train_ffm.txt'\n",
    "    test_path = '../dataset/test_ffm.txt'\n",
    "\n",
    "\n",
    "    ffm_model.setTrain(train_path)\n",
    "    ffm_model.setValidate(test_path)\n",
    "\n",
    "    # Parameters:\n",
    "    param = {'task':'binary',\n",
    "             'epoch': 10,\n",
    "             'lr':0.2,\n",
    "             'lambda':0.002,\n",
    "             'metric': 'auc', \n",
    "             'opt':'sgd'}\n",
    "\n",
    "    # Start to train\n",
    "    # The trained model will be stored in model.out\n",
    "    ffm_model.fit(param, './model.out')\n",
    "    ffm_model.setTXTModel('./model.txt')\n",
    "\n",
    "    # Prediction task\n",
    "    ffm_model.setTest(test_path)  \n",
    "    ffm_model.setSigmoid()                \n",
    "    # Start to predict\n",
    "    # The output result will be stored in output.txt\n",
    "    ffm_model.predict(\"./model.out\", \"./output.txt\")"
   ]
  },
  {
   "cell_type": "code",
   "execution_count": null,
   "id": "936e0e54",
   "metadata": {},
   "outputs": [],
   "source": [
    "xl."
   ]
  }
 ],
 "metadata": {
  "kernelspec": {
   "display_name": "ssafy",
   "language": "python",
   "name": "ssafy"
  },
  "language_info": {
   "codemirror_mode": {
    "name": "ipython",
    "version": 3
   },
   "file_extension": ".py",
   "mimetype": "text/x-python",
   "name": "python",
   "nbconvert_exporter": "python",
   "pygments_lexer": "ipython3",
   "version": "3.8.8"
  }
 },
 "nbformat": 4,
 "nbformat_minor": 5
}
